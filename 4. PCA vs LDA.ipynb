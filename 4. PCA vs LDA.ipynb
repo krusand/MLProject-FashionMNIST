{
 "cells": [
  {
   "cell_type": "code",
   "execution_count": 3,
   "metadata": {},
   "outputs": [],
   "source": [
    "# Libraries\n",
    "import numpy as np\n",
    "import pandas as pd\n",
    "import matplotlib.pyplot as plt\n",
    "from matplotlib.colors import ListedColormap\n",
    "import seaborn as sns\n",
    "from mlxtend.plotting import plot_decision_regions\n",
    "\n",
    "from sklearn.svm import SVC\n",
    "from sklearn.metrics import *\n",
    "from sklearn.model_selection import GridSearchCV\n",
    "from sklearn.decomposition import PCA\n",
    "from sklearn.preprocessing import StandardScaler\n",
    "\n",
    "from LinearDiscriminantAnalysis import LDA_implemented\n",
    "from NaiveBayes import NB_clf\n",
    "\n",
    "from tqdm import tqdm"
   ]
  },
  {
   "cell_type": "code",
   "execution_count": 4,
   "metadata": {},
   "outputs": [],
   "source": [
    "\n",
    "train_data = np.load(\"data/fashion_train.npy\")\n",
    "X_train, y_train = train_data[:,:784], train_data[:,-1]\n",
    "\n",
    "test_data = np.load(\"data/fashion_test.npy\")\n",
    "X_test, y_test = test_data[:,:784], test_data[:,-1]\n",
    "\n",
    "N_CLASSES = len(np.unique(y_train))\n",
    "CLOTHING_TYPES = {0: \"T-shirt/top\", \n",
    "                  1: \"Trouser\",\n",
    "                  2: \"Pullover\",\n",
    "                  3: \"Dress\",\n",
    "                  4: \"Shirt\"}\n"
   ]
  },
  {
   "cell_type": "code",
   "execution_count": 5,
   "metadata": {},
   "outputs": [],
   "source": [
    "# PCA \n",
    "\n",
    "num_components = 6\n",
    "pca = PCA(n_components=num_components)\n",
    "\n",
    "# Standardizing each feature to have mean 0 and variance 1 both for the training and test set\n",
    "scaler = StandardScaler()\n",
    "X_train_standardized = scaler.fit_transform(X_train)\n",
    "X_test_standardized = scaler.transform(X_test)\n",
    "\n",
    "# Fitting the PCA model on the training data and transform it\n",
    "PCA_X_train = pca.fit_transform(X_train_standardized)\n",
    "PCA_X_test = pca.transform(X_test_standardized)"
   ]
  },
  {
   "cell_type": "code",
   "execution_count": 6,
   "metadata": {},
   "outputs": [
    {
     "name": "stdout",
     "output_type": "stream",
     "text": [
      "LDA succesfully fitted and tranformed\n"
     ]
    }
   ],
   "source": [
    "# LDA\n",
    "lda = LDA_implemented(N_CLASSES-1)\n",
    "LDA_X_train = lda.fit_transform(X_train, y_train)\n",
    "LDA_X_test = lda.transform(X_test)"
   ]
  },
  {
   "cell_type": "code",
   "execution_count": 25,
   "metadata": {},
   "outputs": [
    {
     "name": "stdout",
     "output_type": "stream",
     "text": [
      "SVM on PCA, 2 dim: 0.5730035926693218\n",
      "SVM on LDA, 2 dim: 0.7261501329609381\n",
      "SVM on PCA, all dim: 0.7796665653640624\n",
      "SVM on LDA, all dim: 0.81630391600527\n"
     ]
    }
   ],
   "source": [
    "svm_PCA1 = SVC(kernel='rbf', C=1, gamma=0.01)\n",
    "svm_PCA1.fit(PCA_X_train[:,:2], y_train)\n",
    "PCA1_y_pred = svm_PCA1.predict(PCA_X_test[:,:2])\n",
    "\n",
    "svm_LDA1 = SVC(kernel='rbf', C=1, gamma=0.01)\n",
    "svm_LDA1.fit(LDA_X_train[:,:2], y_train)\n",
    "LDA1_y_pred = svm_LDA1.predict(LDA_X_test[:,:2])\n",
    "\n",
    "svm_PCA2 = SVC(kernel='rbf', C=1, gamma=0.01)\n",
    "svm_PCA2.fit(PCA_X_train, y_train)\n",
    "PCA2_y_pred = svm_PCA2.predict(PCA_X_test)\n",
    "\n",
    "svm_LDA2 = SVC(kernel='rbf', C=1, gamma=0.01)\n",
    "svm_LDA2.fit(LDA_X_train, y_train)\n",
    "LDA2_y_pred = svm_LDA2.predict(LDA_X_test)\n",
    "\n",
    "\n",
    "print(\"SVM on PCA, 2 dim:\", f1_score(y_test, PCA1_y_pred, average=\"macro\"))\n",
    "print(\"SVM on LDA, 2 dim:\", f1_score(y_test, LDA1_y_pred, average=\"macro\"))\n",
    "print(\"SVM on PCA, 6 dim:\", f1_score(y_test, PCA2_y_pred, average=\"macro\"))\n",
    "print(\"SVM on LDA, 4 dim:\", f1_score(y_test, LDA2_y_pred, average=\"macro\"))\n"
   ]
  },
  {
   "cell_type": "code",
   "execution_count": 12,
   "metadata": {},
   "outputs": [
    {
     "name": "stdout",
     "output_type": "stream",
     "text": [
      "NB on PCA, 2 dim: 0.5076282530197032\n",
      "NB on LDA, 2 dim: 0.7167324243145808\n",
      "SVM on PCA, 6 dim: 0.6977798363403879\n",
      "SVM on LDA, 4 dim: 0.7998845700556109\n"
     ]
    }
   ],
   "source": [
    "nb_PCA1 = NB_clf(0.6)\n",
    "nb_PCA1.fit(PCA_X_train[:,:2], y_train)\n",
    "NB_PCA1_y_pred = nb_PCA1.predict(PCA_X_test[:,:2])\n",
    "\n",
    "nb_LDA1 = NB_clf(0.6)\n",
    "nb_LDA1.fit(LDA_X_train[:,:2], y_train)\n",
    "NB_LDA1_y_pred = nb_LDA1.predict(LDA_X_test[:,:2])\n",
    "\n",
    "nb_PCA2 = NB_clf(0.6)\n",
    "nb_PCA2.fit(PCA_X_train[:,:], y_train)\n",
    "NB_PCA2_y_pred = nb_PCA2.predict(PCA_X_test[:,:])\n",
    "\n",
    "nb_LDA2 = NB_clf(0.6)\n",
    "nb_LDA2.fit(LDA_X_train[:,:], y_train)\n",
    "NB_LDA2_y_pred = nb_LDA2.predict(LDA_X_test[:,:])\n",
    "\n",
    "print(\"NB on PCA, 2 dim:\", f1_score(y_test, NB_PCA1_y_pred, average=\"macro\"))\n",
    "print(\"NB on LDA, 2 dim:\", f1_score(y_test, NB_LDA1_y_pred, average=\"macro\"))\n",
    "print(\"SVM on PCA, 6 dim:\", f1_score(y_test, NB_PCA2_y_pred, average=\"macro\"))\n",
    "print(\"SVM on LDA, 4 dim:\", f1_score(y_test, NB_LDA2_y_pred, average=\"macro\"))"
   ]
  }
 ],
 "metadata": {
  "kernelspec": {
   "display_name": "base",
   "language": "python",
   "name": "python3"
  },
  "language_info": {
   "codemirror_mode": {
    "name": "ipython",
    "version": 3
   },
   "file_extension": ".py",
   "mimetype": "text/x-python",
   "name": "python",
   "nbconvert_exporter": "python",
   "pygments_lexer": "ipython3",
   "version": "3.11.4"
  }
 },
 "nbformat": 4,
 "nbformat_minor": 2
}
