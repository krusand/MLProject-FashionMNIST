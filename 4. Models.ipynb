{
 "cells": [
  {
   "cell_type": "code",
   "execution_count": null,
   "metadata": {},
   "outputs": [],
   "source": [
    "# Libraries\n",
    "import numpy as np\n",
    "import pandas as pd\n",
    "import matplotlib.pyplot as plt\n",
    "from matplotlib.colors import ListedColormap\n",
    "import seaborn as sns\n",
    "from mlxtend.plotting import plot_decision_regions\n",
    "\n",
    "from sklearn.svm import SVC\n",
    "from sklearn.metrics import *\n",
    "from sklearn.model_selection import GridSearchCV\n",
    "\n",
    "from LinearDiscriminantAnalysis import LDA_implemented\n",
    "from NaiveBayes import NB_clf\n",
    "\n",
    "from tqdm import tqdm"
   ]
  },
  {
   "cell_type": "code",
   "execution_count": 23,
   "metadata": {},
   "outputs": [],
   "source": [
    "train_data = np.load(\"data/fashion_train.npy\")\n",
    "X_train, y_train = train_data[:,:784], train_data[:,-1]\n",
    "\n",
    "test_data = np.load(\"data/fashion_test.npy\")\n",
    "X_test, y_test = test_data[:,:784], test_data[:,-1]\n",
    "\n",
    "N_CLASSES = len(np.unique(y_train))\n",
    "CLOTHING_TYPES = {0: \"T-shirt/top\", \n",
    "                  1: \"Trouser\",\n",
    "                  2: \"Pullover\",\n",
    "                  3: \"Dress\",\n",
    "                  4: \"Shirt\"}\n",
    "\n",
    "CLOTHING_COLORS = {0: \"darkorange\", \n",
    "                   1: \"lightseagreen\",\n",
    "                   2: \"orangered\",\n",
    "                   3: \"cornflowerblue\",\n",
    "                   4: \"orchid\"}"
   ]
  },
  {
   "cell_type": "code",
   "execution_count": 20,
   "metadata": {},
   "outputs": [
    {
     "name": "stdout",
     "output_type": "stream",
     "text": [
      "LDA succesfully fitted and tranformed\n"
     ]
    }
   ],
   "source": [
    "lda = LDA_implemented(4)\n",
    "LDA_X_train = lda.fit_transform(X=X_train, y=y_train)\n",
    "LDA_X_test = lda.transform(X_test)\n"
   ]
  },
  {
   "cell_type": "markdown",
   "metadata": {},
   "source": [
    "# Naive Bayes"
   ]
  },
  {
   "cell_type": "markdown",
   "metadata": {},
   "source": [
    "# SVM"
   ]
  },
  {
   "cell_type": "markdown",
   "metadata": {},
   "source": [
    "# CNN"
   ]
  }
 ],
 "metadata": {
  "kernelspec": {
   "display_name": "base",
   "language": "python",
   "name": "python3"
  },
  "language_info": {
   "codemirror_mode": {
    "name": "ipython",
    "version": 3
   },
   "file_extension": ".py",
   "mimetype": "text/x-python",
   "name": "python",
   "nbconvert_exporter": "python",
   "pygments_lexer": "ipython3",
   "version": "3.11.6"
  }
 },
 "nbformat": 4,
 "nbformat_minor": 2
}
